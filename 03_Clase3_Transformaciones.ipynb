{
  "nbformat": 4,
  "nbformat_minor": 0,
  "metadata": {
    "colab": {
      "name": "Clase3_Transformaciones.ipynb",
      "provenance": [],
      "toc_visible": true
    },
    "kernelspec": {
      "name": "python3",
      "display_name": "Python 3"
    },
    "language_info": {
      "name": "python"
    }
  },
  "cells": [
    {
      "cell_type": "markdown",
      "metadata": {
        "id": "Ejbke_J5slsX"
      },
      "source": [
        "**TRANSFORMACIÓN DE SEÑALES EN TIEMPO CONTINUO**"
      ]
    },
    {
      "cell_type": "markdown",
      "metadata": {
        "id": "VfC9UYdKs-D6"
      },
      "source": [
        "# **1. En amplitud**\n",
        "A una señal se le puede cambiar sus valor de amplitud, esto se logra multiplicando la señal por un escalar (real).\n",
        "\n",
        "Por ejemplo: a·x(t) con a ∈ 𝕽.\n",
        "*   Si la magnitud del escalar es igual a uno (|a|=1) la señal NO cambiaría su amplitud.\n",
        "*   Si la magnitud del escalar es mayor a uno (|a|>1) la señal se amplificará.\n",
        "*   Si la magnitud del escalar es menor a uno (|a|<1) la señal se atenuara.\n",
        "*   Si el escalar es negativo (a<0), la amplitud cambia se signo.\n",
        "\n",
        "*Observación: En el código que se mostrará a continuación se utiliza una señal triángulo con amplitud inicial de 3 y un factor de amplitud igual a -2. Usted puede cambiar dicho factor para notar el cambio.*"
      ]
    },
    {
      "cell_type": "code",
      "metadata": {
        "colab": {
          "base_uri": "https://localhost:8080/",
          "height": 311
        },
        "id": "fMp8NYhwuntM",
        "outputId": "bda0a451-9ab8-4f33-b4d3-d200d8da1a96"
      },
      "source": [
        "import matplotlib.pyplot as plt\n",
        "import numpy as np\n",
        "from scipy.signal import square, unit_impulse\n",
        "\n",
        "def triangulo(t, s, amplitud):\n",
        "\n",
        "  t1 = s[0]\n",
        "  t1 = round(t1,0)\n",
        "  t2 = s[len(s) - 1]\n",
        "  t2 = round(t2,0)\n",
        "\n",
        "  x_temp = np.array([])\n",
        "  temp = 0.0\n",
        "  pendiente = amplitud / (t2 - t1)\n",
        "  for i in range(0, points):\n",
        "    y = -(pendiente * temp) + amplitud \n",
        "    x_temp = np.append(x_temp, y)\n",
        "    temp += 0.1\n",
        "    temp = round(temp, 1)\n",
        "\n",
        "  #Desplazar el rango en t1\n",
        "  s = s + t1\n",
        "\n",
        "  x = np.array([])\n",
        "  index = 0\n",
        "\n",
        "  for value in t:\n",
        "    value = round(value,1)\n",
        "    if value in np.around(s, 1):\n",
        "      x = np.append(x, x_temp[index])\n",
        "      index += 1\n",
        "    else:\n",
        "      x = np.append(x, 0.0)\n",
        "\n",
        "  return x\n",
        "\n",
        "t1, t2 = (-10,10)\n",
        "points = (t2 - t1) * 10\n",
        "t = np.linspace(t1, t2, points)\n",
        "t1, t2 = (0,5) #Soporte inicial del triángulo.\n",
        "s = np.linspace(t1, t2, points, endpoint=False)\n",
        "\n",
        "amplitud = 3\n",
        "fx = lambda t, s: triangulo(t, s, amplitud) \n",
        "x = fx(t, s) #Triángulo de ampitud 3.\n",
        "a = -2 #Factor de amplitud\n",
        "x2 = a*x #Señal escalada.\n",
        "\n",
        "fig, axs = plt.subplots(2)\n",
        "fig.suptitle('Transformación en amplitud a*x(t)')\n",
        "axs[0].plot(t, x)\n",
        "axs[1].plot(t, x2)\n",
        "\n"
      ],
      "execution_count": 1,
      "outputs": [
        {
          "output_type": "execute_result",
          "data": {
            "text/plain": [
              "[<matplotlib.lines.Line2D at 0x7f226556b390>]"
            ]
          },
          "metadata": {
            "tags": []
          },
          "execution_count": 1
        },
        {
          "output_type": "display_data",
          "data": {
            "image/png": "[encoded data removed]",
            "text/plain": [
              "<Figure size 432x288 with 2 Axes>"
            ]
          },
          "metadata": {
            "tags": [],
            "needs_background": "light"
          }
        }
      ]
    },
    {
      "cell_type": "markdown",
      "metadata": {
        "id": "A5Vhl8KOxm-F"
      },
      "source": [
        "A una señal también se le puede cambiar su valor de desplazamiento vertical (offset), esto se logra sumando un valor constante (DC) a la señal.\n",
        "Por ejemplo: x(t) + a con a ∈ 𝕽.\n",
        "\n",
        "\n",
        "\n",
        "*   Si el valor de a es mayor a cero (a > 0) la señal tendrá un desplazamiento hacia arriba.\n",
        "*   Si el valor de a es menor a cero (a < 0) la señal tendrá un desplazamiento hacia abajo.\n",
        "*   Si el valor de a es igual a cero (a = 0) la señal NO \n",
        "     tendrá ningún cambio.\n",
        "\n",
        "Observación: Para el código ejemplo se utilizará un offset de 2, usted puede cambiarlo para observar el cambio de la señal dependiendo de este valor.\n",
        "\n",
        "\n",
        "\n"
      ]
    },
    {
      "cell_type": "code",
      "metadata": {
        "colab": {
          "base_uri": "https://localhost:8080/",
          "height": 312
        },
        "id": "GkN3y-nEx4En",
        "outputId": "dbbc9de4-479d-4af9-d065-5d9ce208bc89"
      },
      "source": [
        "Offset = 2 #Offset\n",
        "x3 = x2 + Offset #Señal escalada.\n",
        "\n",
        "fig, axs = plt.subplots(2)\n",
        "fig.suptitle('Transformación en amplitud x(t) + a')\n",
        "axs[0].plot(t, x2)\n",
        "axs[1].plot(t, x3)"
      ],
      "execution_count": null,
      "outputs": [
        {
          "output_type": "execute_result",
          "data": {
            "text/plain": [
              "[<matplotlib.lines.Line2D at 0x7f147863b4d0>]"
            ]
          },
          "metadata": {
            "tags": []
          },
          "execution_count": 14
        },
        {
          "output_type": "display_data",
          "data": {
            "image/png": "[encoded data removed]",
            "text/plain": [
              "<Figure size 432x288 with 2 Axes>"
            ]
          },
          "metadata": {
            "tags": [],
            "needs_background": "light"
          }
        }
      ]
    },
    {
      "cell_type": "markdown",
      "metadata": {
        "id": "sGY48f_CzefD"
      },
      "source": [
        "# **2. De la variable independiente**\n",
        "\n",
        "Además de cambio en su amplitud, la señal puede sufrir cambios por medio de transformaciones de la variable independiente.\n",
        "Estas transformaciones pueden ser:\n",
        "*   Inversión en el tiempo.\n",
        "*   Desplazamiento.\n",
        "*   Escalamiento en el tiempo.\n",
        "\n"
      ]
    },
    {
      "cell_type": "markdown",
      "metadata": {
        "id": "H9K095-h0I3E"
      },
      "source": [
        "**2.1 Inversión en el tiempo**\n",
        "\n",
        "Sea x(t) la señal original, al reflejar la señal por el eje t=0 se obtiene la señal x(-t), es decir la señal invertida en el eje tiempo."
      ]
    },
    {
      "cell_type": "code",
      "metadata": {
        "colab": {
          "base_uri": "https://localhost:8080/",
          "height": 312
        },
        "id": "O52DzETt0Pay",
        "outputId": "f96599e5-530c-40d1-982f-c0817e7275f7"
      },
      "source": [
        "import matplotlib.pyplot as plt\n",
        "import numpy as np\n",
        "\n",
        "t1, t2 = (-10,10)\n",
        "points = (t2 - t1) * 10\n",
        "t = np.linspace(t1, t2, points)\n",
        "t1, t2 = (0,5) #Soporte inicial del triángulo.\n",
        "s = np.linspace(t1, t2, points, endpoint=False)\n",
        "\n",
        "amplitud = 3\n",
        "fx = lambda t, s: triangulo(t, s, amplitud) \n",
        "x = fx(t, s) #Triángulo de ampitud 3\n",
        "\n",
        "def inversion_tiempo(signal):\n",
        "  return np.flip(signal, axis=0)\n",
        "\n",
        "x_invertida = inversion_tiempo(x)\n",
        "\n",
        "fig, axs = plt.subplots(2)\n",
        "fig.suptitle('Inversión en tiempo')\n",
        "axs[0].plot(t, x)\n",
        "axs[1].plot(t, x_invertida)\n"
      ],
      "execution_count": null,
      "outputs": [
        {
          "output_type": "execute_result",
          "data": {
            "text/plain": [
              "[<matplotlib.lines.Line2D at 0x7f14781e6f50>]"
            ]
          },
          "metadata": {
            "tags": []
          },
          "execution_count": 15
        },
        {
          "output_type": "display_data",
          "data": {
            "image/png": "[encoded data removed]",
            "text/plain": [
              "<Figure size 432x288 with 2 Axes>"
            ]
          },
          "metadata": {
            "tags": [],
            "needs_background": "light"
          }
        }
      ]
    },
    {
      "cell_type": "markdown",
      "metadata": {
        "id": "xTb4J3ke3rZA"
      },
      "source": [
        "**2.1.1 Componente par e impar de una señal**\n",
        "\n",
        "Cualquier señal se compone de una parte par (señal par) y una parte impar (señal impar). \n",
        "Por este motivo, cualquier señal puede descomponerse en su parte par y su parte impar, así: \n",
        "\n",
        "x(t) = Par{x(t)} + Impar{x(t)}\n"
      ]
    },
    {
      "cell_type": "code",
      "metadata": {
        "colab": {
          "base_uri": "https://localhost:8080/",
          "height": 283
        },
        "id": "3c4zUFDayAs3",
        "outputId": "3fdb21ac-f2c8-4b8d-c088-f7a050be7190"
      },
      "source": [
        "# Señal de prueba\n",
        "import matplotlib.pyplot as plt\n",
        "import numpy as np\n",
        "\n",
        "t = np.arange(-10, 11, 0.1)\n",
        "x = np.array([])\n",
        "value = 10\n",
        "\n",
        "for i in t:\n",
        "  if i >= -4:\n",
        "    x = np.append(x, 3)\n",
        "  else:\n",
        "    x = np.append(x, 0)\n",
        "\n",
        "plt.plot(t, x)"
      ],
      "execution_count": null,
      "outputs": [
        {
          "output_type": "execute_result",
          "data": {
            "text/plain": [
              "[<matplotlib.lines.Line2D at 0x7f14789c4910>]"
            ]
          },
          "metadata": {
            "tags": []
          },
          "execution_count": 3
        },
        {
          "output_type": "display_data",
          "data": {
            "image/png": "[encoded data removed]",
            "text/plain": [
              "<Figure size 432x288 with 1 Axes>"
            ]
          },
          "metadata": {
            "tags": [],
            "needs_background": "light"
          }
        }
      ]
    },
    {
      "cell_type": "markdown",
      "metadata": {
        "id": "FRi3Fx2HyCMJ"
      },
      "source": [
        "*   La parte par de la señal puede encontrase así:\n",
        "\n",
        "Par{x(t)} = [x(t)+x(-t)]/2"
      ]
    },
    {
      "cell_type": "code",
      "metadata": {
        "id": "ev0na-Ik4T01",
        "colab": {
          "base_uri": "https://localhost:8080/",
          "height": 283
        },
        "outputId": "febf4451-0ffc-4c4c-ab4b-5588f216c7d4"
      },
      "source": [
        "# Inversion en el tiempo\n",
        "def inversion_tiempo(signal):\n",
        "  return np.flip(signal, axis=0)\n",
        "\n",
        "x_invertida = inversion_tiempo(x)\n",
        "\n",
        "# Componente impar\n",
        "def componente_impar(signal):\n",
        "  impar = signal - inversion_tiempo(signal)\n",
        "  impar = impar / 2\n",
        "  return impar\n",
        "\n",
        "plt.plot(t, componente_impar(x)) "
      ],
      "execution_count": null,
      "outputs": [
        {
          "output_type": "execute_result",
          "data": {
            "text/plain": [
              "[<matplotlib.lines.Line2D at 0x7f1478adbed0>]"
            ]
          },
          "metadata": {
            "tags": []
          },
          "execution_count": 6
        },
        {
          "output_type": "display_data",
          "data": {
            "image/png": "[encoded data removed]",
            "text/plain": [
              "<Figure size 432x288 with 1 Axes>"
            ]
          },
          "metadata": {
            "tags": [],
            "needs_background": "light"
          }
        }
      ]
    },
    {
      "cell_type": "markdown",
      "metadata": {
        "id": "-xF-Xi4j4UsN"
      },
      "source": [
        "*   La parte impar de la señal puede encontrase así:\n",
        "\n",
        "Impar{x(t)} = [x(t)-x(-t)]/2"
      ]
    },
    {
      "cell_type": "code",
      "metadata": {
        "id": "olpoPpxr4VjZ",
        "colab": {
          "base_uri": "https://localhost:8080/",
          "height": 283
        },
        "outputId": "258b73d4-a87f-4df3-dba7-f019f9e23f83"
      },
      "source": [
        "# Componente par\n",
        "def componente_par(signal):\n",
        "  par = signal + inversion_tiempo(signal)\n",
        "  par = par / 2\n",
        "  return par\n",
        "\n",
        "plt.plot(t, componente_par(x)) "
      ],
      "execution_count": null,
      "outputs": [
        {
          "output_type": "execute_result",
          "data": {
            "text/plain": [
              "[<matplotlib.lines.Line2D at 0x7f147885b110>]"
            ]
          },
          "metadata": {
            "tags": []
          },
          "execution_count": 7
        },
        {
          "output_type": "display_data",
          "data": {
            "image/png": "[encoded data removed]",
            "text/plain": [
              "<Figure size 432x288 with 1 Axes>"
            ]
          },
          "metadata": {
            "tags": [],
            "needs_background": "light"
          }
        }
      ]
    },
    {
      "cell_type": "markdown",
      "metadata": {
        "id": "V0YVWXJT5jGi"
      },
      "source": [
        "**2.2 Desplazamiento en tiempo**\n",
        "\n",
        "Al desplazar en el tiempo una señal, se tiene lo siguiente: \n",
        "Sea x(t) la señal original, al desplazar la señal en el tiempo t0 se obtiene la señal x(t-t0), es decir la señal desplazada en eje horizontal.\n",
        "*   Si t0 > 0, es entonces x(t-t0) es una versión retardada de x(t).\n",
        "*   Si t0 > 0, es entonces x(t+t0) es una versión adelantada de x(t).\n",
        "\n",
        "*Observación: Para este ejemplo se toma una ventana cuadrada con soporte entre -2 y 4, su factor de desplazamiento es -2. Usted puede variar el factor de desplazamiento y el soporte inicial de la ventana.*\n",
        "\n"
      ]
    },
    {
      "cell_type": "code",
      "metadata": {
        "colab": {
          "base_uri": "https://localhost:8080/",
          "height": 312
        },
        "id": "9zhdiq8l6y8y",
        "outputId": "ebaa7979-8fa6-45e3-f336-c3c105a3e883"
      },
      "source": [
        "import matplotlib.pyplot as plt\n",
        "import numpy as np\n",
        "from scipy.signal import square, unit_impulse\n",
        "\n",
        "def ventana(t, s, amplitud):\n",
        "  x_temp = square(s, 1)\n",
        "\n",
        "  x = np.array([])\n",
        "  index = 0\n",
        "  for value in t:\n",
        "    value = round(value,1)\n",
        "    if value in np.around(s, 1):\n",
        "      x = np.append(x, x_temp[index])\n",
        "      index += 1\n",
        "    else:\n",
        "      x = np.append(x, 0.0)\n",
        "\n",
        "  x = x * amplitud\n",
        "\n",
        "  return x\n",
        "\n",
        "t1, t2 = (-6,7)\n",
        "points = (t2 - t1) * 10\n",
        "t = np.linspace(t1, t2, points)\n",
        "t1, t2 = (-2,4) #Soporte inicial de la ventana.\n",
        "s = np.linspace(t1, t2, points, endpoint=False)\n",
        "\n",
        "amplitud = 3\n",
        "fx = lambda t, s: ventana(t, s, amplitud)\n",
        "factor_desplazamiento = -2 #Factor de desplazamiento\n",
        "x = fx(t, s) #Ventana de amplitud 3.\n",
        "x_desplazado = fx(t - factor_desplazamiento, s)\n",
        "\n",
        "fig, axs = plt.subplots(2)\n",
        "fig.suptitle('Desplazamiento en tiempo')\n",
        "axs[0].plot(t, x)\n",
        "axs[1].plot(t, x_desplazado)"
      ],
      "execution_count": null,
      "outputs": [
        {
          "output_type": "execute_result",
          "data": {
            "text/plain": [
              "[<matplotlib.lines.Line2D at 0x7f14780c7350>]"
            ]
          },
          "metadata": {
            "tags": []
          },
          "execution_count": 16
        },
        {
          "output_type": "display_data",
          "data": {
            "image/png": "[encoded data removed]",
            "text/plain": [
              "<Figure size 432x288 with 2 Axes>"
            ]
          },
          "metadata": {
            "tags": [],
            "needs_background": "light"
          }
        }
      ]
    },
    {
      "cell_type": "markdown",
      "metadata": {
        "id": "-xUwcMCH8wVG"
      },
      "source": [
        "**2.3 Escalamiento en tiempo**\n",
        "\n",
        "Al hacer el escalamiento en el tiempo una señal, se tiene lo siguiente: \n",
        "Sea x(t) la señal original, al escalar la señal en el tiempo un valor de a se obtiene la señal x(at), es decir la señal se reproducirá a una velocidad diferente.\n",
        "\n",
        "\n",
        "*   Si |a| > 1, entonces x(at) es una versión que se reproducirá más rápidamente que x(t).\n",
        "*   Si |a| < 1, entonces x(at) es una versión que se reproducirá más lentamente que x(t).\n",
        "\n",
        "*Observación: Para este ejemplo se toma una ventana cuadrada con soporpte entre -5 y 5, su factor de escalamiento es 2. Usted puede variar el factor de desplazamiento y el soporte inicial de la ventana.*\n",
        "\n"
      ]
    },
    {
      "cell_type": "code",
      "metadata": {
        "colab": {
          "base_uri": "https://localhost:8080/",
          "height": 312
        },
        "id": "eU-q33It86X4",
        "outputId": "4350a8dd-0dbb-42f9-9929-b7685de4ed33"
      },
      "source": [
        "import matplotlib.pyplot as plt\n",
        "import numpy as np\n",
        "from scipy.signal import square, unit_impulse\n",
        "\n",
        "t1, t2 = (-10,10)\n",
        "points = (t2 - t1) * 10\n",
        "t = np.linspace(t1, t2, points)\n",
        "t1, t2 = (-5,5) #Soporte inicial\n",
        "s = np.linspace(t1, t2, points, endpoint=False)\n",
        "amplitud = 3\n",
        "fx = lambda t, s: ventana(t, s, amplitud) \n",
        "\n",
        "factor_escalamiento = 2 #Factor de escalamiento\n",
        "x = fx(t, s) #Ventana con amplitud 3.\n",
        "x_escalada = fx(t * factor_escalamiento, s)\n",
        "\n",
        "fig, axs = plt.subplots(2)\n",
        "fig.suptitle('Escalamiento en tiempo')\n",
        "axs[0].plot(t, x)\n",
        "axs[1].plot(t, x_escalada)"
      ],
      "execution_count": null,
      "outputs": [
        {
          "output_type": "execute_result",
          "data": {
            "text/plain": [
              "[<matplotlib.lines.Line2D at 0x7f147800e390>]"
            ]
          },
          "metadata": {
            "tags": []
          },
          "execution_count": 17
        },
        {
          "output_type": "display_data",
          "data": {
            "image/png": "[encoded data removed]",
            "text/plain": [
              "<Figure size 432x288 with 2 Axes>"
            ]
          },
          "metadata": {
            "tags": [],
            "needs_background": "light"
          }
        }
      ]
    }
  ]
}